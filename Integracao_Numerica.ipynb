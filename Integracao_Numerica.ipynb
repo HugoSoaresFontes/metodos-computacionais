{
 "cells": [
  {
   "cell_type": "code",
   "execution_count": 6,
   "metadata": {
    "collapsed": true
   },
   "outputs": [],
   "source": [
    "# funcoes.py \n",
    "import math \n",
    "\n",
    "def seno(x): \n",
    "    return math.sin(math.radians(x))\n",
    "\n",
    "def x2(x):\n",
    "    return x**2\n",
    "\n",
    "def ln(x):\n",
    "    # Integral de 1/x = ln x     \n",
    "    return 1/x"
   ]
  },
  {
   "cell_type": "markdown",
   "metadata": {},
   "source": [
    "\n",
    "\\begin{align*}\n",
    "f(x) = \\frac{h}{2}\\ \\sum_{i=1}^N f(x_{i}) + f(x_{i+1})   \\ \n",
    "\\end{align*}\n",
    "<center style=\"margin-top:6px;\">Integração por trapézios</center>\n"
   ]
  },
  {
   "cell_type": "code",
   "execution_count": 7,
   "metadata": {
    "collapsed": false
   },
   "outputs": [],
   "source": [
    "def integrar_por_trapezios(funcao, inicio=0.0, fim=10.0, step=0.5):\n",
    "    i = inicio\n",
    "    area = 0.0\n",
    "    while i < (fim): \n",
    "        a = funcao(i)\n",
    "        b = funcao(i+step)\n",
    "        area_trapezio = (a + b)\n",
    "        area += area_trapezio \n",
    "        i += step \n",
    "    return area * (step/2)\n",
    "\n",
    "        "
   ]
  },
  {
   "cell_type": "markdown",
   "metadata": {},
   "source": [
    "Color fórmulal da resolução de integral por simpson"
   ]
  },
  {
   "cell_type": "code",
   "execution_count": 8,
   "metadata": {
    "collapsed": true
   },
   "outputs": [],
   "source": [
    "def integrar_por_simpson(f, inicio=0.0, fim=10.0, step=0.5):\n",
    "    area = f(inicio) + f(fim)\n",
    "    x = inicio \n",
    "    count = 0\n",
    "    aux = 1\n",
    "    while x<(fim-step):\n",
    "        x += step\n",
    "        if aux == 1: \n",
    "            area += 4*f(x)\n",
    "            aux = 0 \n",
    "        else: \n",
    "            area += 2*f(x)\n",
    "            aux = 1 \n",
    "    return area * step/3"
   ]
  },
  {
   "cell_type": "code",
   "execution_count": 9,
   "metadata": {
    "collapsed": false
   },
   "outputs": [
    {
     "name": "stdout",
     "output_type": "stream",
     "text": [
      "18.010000000000016\n",
      "18.00000000000001\n"
     ]
    }
   ],
   "source": [
    "# main.py \n",
    "\n",
    "print (integrar_por_trapezios(x2, -3, 3, 0.1))\n",
    "print (integrar_por_simpson(x2, -3, 3, 0.1))\n"
   ]
  },
  {
   "cell_type": "code",
   "execution_count": null,
   "metadata": {
    "collapsed": true
   },
   "outputs": [],
   "source": []
  },
  {
   "cell_type": "code",
   "execution_count": null,
   "metadata": {
    "collapsed": true
   },
   "outputs": [],
   "source": []
  },
  {
   "cell_type": "code",
   "execution_count": null,
   "metadata": {
    "collapsed": true
   },
   "outputs": [],
   "source": []
  }
 ],
 "metadata": {
  "anaconda-cloud": {},
  "kernelspec": {
   "display_name": "Python [conda root]",
   "language": "python",
   "name": "conda-root-py"
  },
  "language_info": {
   "codemirror_mode": {
    "name": "ipython",
    "version": 3
   },
   "file_extension": ".py",
   "mimetype": "text/x-python",
   "name": "python",
   "nbconvert_exporter": "python",
   "pygments_lexer": "ipython3",
   "version": "3.5.2"
  }
 },
 "nbformat": 4,
 "nbformat_minor": 1
}
