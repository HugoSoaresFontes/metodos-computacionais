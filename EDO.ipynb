{
 "cells": [
  {
   "cell_type": "markdown",
   "metadata": {},
   "source": [
    "<h1 style=\"text-align:center;\">Resolução numérica de Equações Diferenciais de Primeira Ordem e Não Homogêneas</h1>"
   ]
  },
  {
   "cell_type": "markdown",
   "metadata": {},
   "source": [
    "<h3>Observações - Analiticamente:</h3>\n",
    "<br>\n",
    "<h4>EOOH</h4>\n",
    "<p style=\"text-align: justify; text-indent:4em\">\n",
    "    <ol>\n",
    "        <li>[Obter o polinômio característico]</li>\n",
    "        <li>[verificar o tipo]</li>\n",
    "        <ol>\n",
    "            <li>\n",
    "                <strong> Reais e distintas</strong> ex: Y(x)= Coe^PoX + C1e^P1X + C2e^P2x\n",
    "            </li>\n",
    "            <li>\n",
    "                <strong> Reais e iguais</strong> ex: Y(x)= Ae^PoX + BXe^P0X + CX²e^PoX\n",
    "            </li>\n",
    "            <li>\n",
    "                <strong>Complexas</strong> <br> Y(x) = M1(e^(ax))cos(wx) + M2(e^(ax))sen(wx) <br>Y(x) = M(e^ax)sen(wx + o), onde M = sqtr(M1 + M2) e o = t^-1(M1/M2)\n",
    "            </li>\n",
    "        </ol>\n",
    "    </ol>\n",
    "    \n",
    "</p>"
   ]
  },
  {
   "cell_type": "markdown",
   "metadata": {},
   "source": [
    "<h4>EDOÑH</h4>\n",
    "<p style=\"text-align: justify; text-indent:4em\">\n",
    "    <ol>\n",
    "    <li>[Obter o polinômio característico]</li>\n",
    "    <li>[verificar o tipo]</li>\n",
    "    <ol>\n",
    "        <li>\n",
    "            <strong> Reais e distintas</strong> ex: Y(x)= Coe^PoX + C1e^P1X + C2e^P2x\n",
    "        </li>\n",
    "        <li>\n",
    "            <strong> Reais e iguais</strong> ex: Y(x)= Ae^PoX + BXe^P0X + CX²e^PoX\n",
    "        </li>\n",
    "        <li>\n",
    "            <strong>Complexas</strong> <br> Yh(x) = M1(e^(ax))cos(wx) + M2(e^(ax))sen(wx) <br>Yh(x) = M(e^ax)sen(wx + o), onde M = sqtr(M1 + M2) e o = t^-1(M1/M2)\n",
    "        </li>\n",
    "    </ol>\n",
    "    <br>\n",
    "    <li>Obter a solução particular</li>\n",
    "        <ul>\n",
    "            <li>Partindo do princípio: f(x,y) = a(e^BX)</li>\n",
    "            <li>Yp(x) = A(e^Bx), onde A = a/H(p) |p=B</li>\n",
    "        </ul>\n",
    "    </ol>\n",
    "</p>"
   ]
  },
  {
   "cell_type": "markdown",
   "metadata": {},
   "source": [
    "<h3>Fórmula de Euler</h3>\n",
    "\n",
    "y(x+h) = y(x) + h(f,y) <br>\n",
    "Yi+1 = Yi + hf(xi, yi)"
   ]
  },
  {
   "cell_type": "code",
   "execution_count": null,
   "metadata": {
    "collapsed": true
   },
   "outputs": [],
   "source": []
  }
 ],
 "metadata": {
  "anaconda-cloud": {},
  "kernelspec": {
   "display_name": "Python [conda root]",
   "language": "python",
   "name": "conda-root-py"
  },
  "language_info": {
   "codemirror_mode": {
    "name": "ipython",
    "version": 3
   },
   "file_extension": ".py",
   "mimetype": "text/x-python",
   "name": "python",
   "nbconvert_exporter": "python",
   "pygments_lexer": "ipython3",
   "version": "3.5.2"
  }
 },
 "nbformat": 4,
 "nbformat_minor": 1
}
