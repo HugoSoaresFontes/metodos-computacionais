{
 "cells": [
  {
   "cell_type": "markdown",
   "metadata": {},
   "source": [
    "<h1 style=\"text-align:center;\">Resolução numérica de Equações Diferenciais de Primeira Ordem e Não Homogêneas</h1>"
   ]
  },
  {
   "cell_type": "code",
   "execution_count": 46,
   "metadata": {
    "collapsed": true
   },
   "outputs": [],
   "source": [
    "import math\n",
    "\n",
    "def equacao1(x, y):\n",
    "    #y' = 2xy \n",
    "    return 2 * x*y\n"
   ]
  },
  {
   "cell_type": "markdown",
   "metadata": {},
   "source": [
    "<h3>Fórmula de Euler</h3>\n",
    "\n",
    "y(x+h) = y(x) + h(f,y) <br>\n",
    "Yi+1 = Yi + hf(xi, yi)"
   ]
  },
  {
   "cell_type": "code",
   "execution_count": 47,
   "metadata": {
    "collapsed": false
   },
   "outputs": [],
   "source": [
    "# Euler = Range-Kutta de primeira ordem\n",
    "\n",
    "def calcular_euler(f, y, x, h):\n",
    "    return y + h*f(x, y)\n",
    "\n",
    "\n",
    "def calcular_derivada_euler(equacao, x0, y0, h, n):\n",
    "    derivada_euler = [0]*n\n",
    "    tempo = [0]*n\n",
    "    derivada_euler[0] = y0\n",
    "    tempo[0] = x0\n",
    "    \n",
    "    aux = x0\n",
    "    for i in range(n-1):\n",
    "        derivada_euler[i+1] = calcular_euler(equacao, derivada_euler[i], tempo[i], h)\n",
    "        aux += h\n",
    "        tempo[i+1] = aux \n",
    "    \n",
    "    return derivada_euler, tempo "
   ]
  },
  {
   "cell_type": "markdown",
   "metadata": {},
   "source": [
    "O método de euler melhorado: Yn+1 = Yn + h * [ [f(Xn,Yn) + f(Xn+1, Yn+1*)] /2] "
   ]
  },
  {
   "cell_type": "code",
   "execution_count": 48,
   "metadata": {
    "collapsed": false
   },
   "outputs": [],
   "source": [
    "# Método de euler melhorado\n",
    "def  calcular_eulerMelhorado(f, y, x, x_pos, h):\n",
    "        y_pos = calcular_euler(f, x, y, h)\n",
    "        return (y+ h*((f(x, y) + f(x_pos, y_pos))/2))\n",
    "\n",
    "def calcular_derivada_euler_melhorado(equacao, x0, y0, h, n):\n",
    "    derivada = [0]*n\n",
    "    tempo = [0]*n\n",
    "    derivada[0] = y0\n",
    "    tempo[0] = x0\n",
    "    \n",
    "    aux = x0\n",
    "    for i in range(n-1):\n",
    "        aux += h\n",
    "        tempo[i+1] = aux \n",
    "        derivada[i+1] = calcular_eulerMelhorado(equacao, derivada[i], tempo[i], tempo[i+1], h)\n",
    "        \n",
    "    \n",
    "    return derivada, tempo "
   ]
  },
  {
   "cell_type": "code",
   "execution_count": 49,
   "metadata": {
    "collapsed": true
   },
   "outputs": [],
   "source": [
    "# Método de range-kutta 2ª ordem\n",
    "def  calcular_rk2():\n",
    "        pass\n",
    "\n",
    "def calcular_derivada_rk2():\n",
    "    return \"\""
   ]
  },
  {
   "cell_type": "code",
   "execution_count": 42,
   "metadata": {
    "collapsed": false
   },
   "outputs": [
    {
     "data": {
      "image/png": "[encoded data removed]",
      "text/plain": [
       "<matplotlib.figure.Figure at 0x7fb63000af60>"
      ]
     },
     "metadata": {},
     "output_type": "display_data"
    }
   ],
   "source": [
    "# main.py \n",
    "# dy = 2Xy\n",
    "import matplotlib.pyplot as plt \n",
    "\n",
    "n = 30\n",
    "x0 = 1\n",
    "y0 = 1 \n",
    "h = 0.05\n",
    "\n",
    "\n",
    "euler, t_euler = calcular_derivada_euler(equacao1, x0, y0, h, n)\n",
    "euler_melhorado, t_euler_melhorado = calcular_derivada_euler_melhorado(equacao1, x0, y0, h, n)\n",
    "\n",
    "plt.plot(t_euler, euler)\n",
    "plt.show()"
   ]
  },
  {
   "cell_type": "code",
   "execution_count": null,
   "metadata": {
    "collapsed": true
   },
   "outputs": [],
   "source": []
  },
  {
   "cell_type": "code",
   "execution_count": null,
   "metadata": {
    "collapsed": true
   },
   "outputs": [],
   "source": []
  },
  {
   "cell_type": "code",
   "execution_count": null,
   "metadata": {
    "collapsed": true
   },
   "outputs": [],
   "source": []
  }
 ],
 "metadata": {
  "anaconda-cloud": {},
  "kernelspec": {
   "display_name": "Python [conda root]",
   "language": "python",
   "name": "conda-root-py"
  },
  "language_info": {
   "codemirror_mode": {
    "name": "ipython",
    "version": 3
   },
   "file_extension": ".py",
   "mimetype": "text/x-python",
   "name": "python",
   "nbconvert_exporter": "python",
   "pygments_lexer": "ipython3",
   "version": "3.5.2"
  }
 },
 "nbformat": 4,
 "nbformat_minor": 1
}
